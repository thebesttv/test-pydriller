{
 "cells": [
  {
   "cell_type": "code",
   "execution_count": 1,
   "metadata": {},
   "outputs": [
    {
     "data": {
      "text/plain": [
       "330492"
      ]
     },
     "execution_count": 1,
     "metadata": {},
     "output_type": "execute_result"
    }
   ],
   "source": [
    "# Paper: DiverseVul: A New Vulnerable Source Code Dataset for Deep Learning Based Vulnerability Detection\n",
    "#   https://github.com/wagner-group/diversevul\n",
    "# Dataset download:\n",
    "#   gdown https://drive.google.com/u/0/uc?id=12IWKhmLhq7qn5B_iXgn5YerOQtkH-6RG\n",
    "\n",
    "import json\n",
    "\n",
    "data = []\n",
    "\n",
    "with open('./diversevul_20230702.json') as f:\n",
    "    for line in f:\n",
    "        data.append(json.loads(line))\n",
    "\n",
    "len(data)"
   ]
  },
  {
   "cell_type": "code",
   "execution_count": 2,
   "metadata": {},
   "outputs": [
    {
     "name": "stdout",
     "output_type": "stream",
     "text": [
      "target: 1\n",
      "cwe: []\n",
      "project: gnutls\n",
      "commit_id: 7ad6162573ba79a4392c63b453ad0220ca6c5ace\n",
      "hash: 73008646937836648589283922871188272089\n",
      "size: 157\n",
      "message: added an extra check while checking the padding.\n"
     ]
    }
   ],
   "source": [
    "for k, v in data[0].items():\n",
    "    if k != 'func':\n",
    "        print(f'{k}: {v}')"
   ]
  },
  {
   "cell_type": "code",
   "execution_count": 3,
   "metadata": {},
   "outputs": [
    {
     "data": {
      "text/plain": [
       "7653"
      ]
     },
     "execution_count": 3,
     "metadata": {},
     "output_type": "execute_result"
    }
   ],
   "source": [
    "commit_dict = {}\n",
    "for d in data:\n",
    "    commit = d['commit_id']\n",
    "    if commit not in commit_dict:\n",
    "        commit_dict[commit] = [d]\n",
    "    else:\n",
    "        commit_dict[commit].append(d)\n",
    "len(commit_dict)"
   ]
  },
  {
   "cell_type": "code",
   "execution_count": 4,
   "metadata": {},
   "outputs": [],
   "source": [
    "count = {}\n",
    "for values in commit_dict.values():\n",
    "    cwes = set()\n",
    "    for d in values:\n",
    "        for cwe in d['cwe']:\n",
    "            cwes.add(cwe)\n",
    "    for cwe in cwes:\n",
    "        if cwe in count:\n",
    "            count[cwe] += 1\n",
    "        else:\n",
    "            count[cwe] = 1"
   ]
  },
  {
   "cell_type": "code",
   "execution_count": 5,
   "metadata": {},
   "outputs": [
    {
     "name": "stdout",
     "output_type": "stream",
     "text": [
      "CWE-476: 506\n",
      "CWE-415: 105\n",
      "CWE-772: 97\n",
      "CWE-787: 1090\n"
     ]
    }
   ],
   "source": [
    "INTERESTED_CWE_ID = [476, 415, 772, 787]\n",
    "for cwe_id in INTERESTED_CWE_ID:\n",
    "    cwe = f'CWE-{cwe_id}'\n",
    "    print(f'{cwe}: {count[cwe]}')"
   ]
  },
  {
   "cell_type": "code",
   "execution_count": 6,
   "metadata": {},
   "outputs": [],
   "source": [
    "# import json\n",
    "# import pandas as pd\n",
    "\n",
    "# # load form json file to df\n",
    "# with open('./diversevul_20230702.json') as f:\n",
    "#     df = pd.DataFrame(json.loads(line) for line in f)"
   ]
  }
 ],
 "metadata": {
  "kernelspec": {
   "display_name": "Python 3",
   "language": "python",
   "name": "python3"
  },
  "language_info": {
   "codemirror_mode": {
    "name": "ipython",
    "version": 3
   },
   "file_extension": ".py",
   "mimetype": "text/x-python",
   "name": "python",
   "nbconvert_exporter": "python",
   "pygments_lexer": "ipython3",
   "version": "3.10.8"
  }
 },
 "nbformat": 4,
 "nbformat_minor": 2
}
